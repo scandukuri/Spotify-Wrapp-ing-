{
 "cells": [
  {
   "cell_type": "code",
   "execution_count": 23,
   "metadata": {},
   "outputs": [],
   "source": [
    "import os\n",
    "import json\n",
    "import spotipy\n",
    "from spotipy.oauth2 import SpotifyClientCredentials\n",
    "import spotipy.util as util\n",
    "import pandas as pd\n",
    "\n",
    "# setting up authorization\n",
    "cid =\"915b0386b44c43348183c89a679f7e0a\" \n",
    "secret = \"71089ac558bd4bea8db1ceeadffe735a\"\n",
    "\n",
    "os.environ['SPOTIPY_CLIENT_ID']= cid\n",
    "os.environ['SPOTIPY_CLIENT_SECRET']= secret\n",
    "os.environ['SPOTIPY_REDIRECT_URI']='http://localhost:8888/callback'\n",
    "\n",
    "username = \"chinmayaandukuri\"\n",
    "client_credentials_manager = SpotifyClientCredentials(client_id=cid, client_secret=secret) \n",
    "sp = spotipy.Spotify(client_credentials_manager=client_credentials_manager)\n",
    "scope = 'user-top-read'\n",
    "token = util.prompt_for_user_token(username, scope)"
   ]
  },
  {
   "cell_type": "code",
   "execution_count": 28,
   "metadata": {},
   "outputs": [],
   "source": [
    "if token:\n",
    "    sp = spotipy.Spotify(auth=token)\n",
    "    results = sp.current_user_top_tracks(limit=50,offset=0,time_range='short_term')\n",
    "    results = results['items']\n",
    "else:\n",
    "    print(\"Can't get token for\", username)"
   ]
  },
  {
   "cell_type": "code",
   "execution_count": 61,
   "metadata": {},
   "outputs": [],
   "source": [
    "track_names = []\n",
    "track_artists = []\n",
    "track_album_names = []\n",
    "track_cover_art_urls = []\n",
    "largest_images = []\n",
    "track_ids = []\n",
    "for track_dict in results:\n",
    "    track_names.append(track_dict['name'])\n",
    "    track_artists.append(track_dict['artists'][0]['name'])\n",
    "    track_album_names.append(track_dict['album']['name'])\n",
    "    track_cover_art_urls.append(track_dict['album']['images'])\n",
    "    largest_images.append(track_dict['album']['images'][0]['url'])\n",
    "    track_ids.append(track_dict['id'])"
   ]
  },
  {
   "cell_type": "code",
   "execution_count": 62,
   "metadata": {},
   "outputs": [
    {
     "name": "stdout",
     "output_type": "stream",
     "text": [
      "[{'height': 640, 'url': 'https://i.scdn.co/image/ab67616d0000b273c6e0948bbb0681ff29cdbae8', 'width': 640}, {'height': 300, 'url': 'https://i.scdn.co/image/ab67616d00001e02c6e0948bbb0681ff29cdbae8', 'width': 300}, {'height': 64, 'url': 'https://i.scdn.co/image/ab67616d00004851c6e0948bbb0681ff29cdbae8', 'width': 64}]\n"
     ]
    }
   ],
   "source": [
    "# Each song's cover art urls entry is a list of 3 dictionaries\n",
    "# Access this list of 3 dictionaries for song i with track_cover_art_urls[i]\n",
    "# track_cover_art_urls[i][0] is 640 x 640\n",
    "# track_cover_art_urls[i][1] is 300 x 300\n",
    "# track_cover_art_urls[i][2] is 64 x 64\n",
    "print(track_cover_art_urls[0])"
   ]
  },
  {
   "cell_type": "code",
   "execution_count": 74,
   "metadata": {},
   "outputs": [],
   "source": [
    "genres = []\n",
    "for artist in track_artists:\n",
    "    result = sp.search(artist, limit=1, type=\"artist\")\n",
    "    artist_genres = result[\"artists\"][\"items\"][0][\"genres\"]\n",
    "    # Note that for each artist, we get a LIST of genres associated\n",
    "    # Eventually we'll calculate genre by getting the UNION of all of the artist's genres\n",
    "    # For now, this works. We might make it more complex in the future\n",
    "    # genres should be a list of 50 lists if we have 50 artists.\n",
    "    genres.append(artist_genres)"
   ]
  },
  {
   "cell_type": "code",
   "execution_count": 75,
   "metadata": {},
   "outputs": [],
   "source": [
    "df = pd.DataFrame(list(zip(track_names, track_artists, track_album_names, track_ids, track_cover_art_urls, largest_images, genres)),\n",
    "               columns =['Name', 'Artist', 'Album', 'ID', 'Cover Art Information', 'Cover Art Largest Image Link', 'Genres'])\n",
    "df['index'] = pd.Series(list(range(1, len(track_names) + 1)))\n",
    "df.set_index(df['index'], inplace = True)"
   ]
  },
  {
   "cell_type": "code",
   "execution_count": 83,
   "metadata": {},
   "outputs": [
    {
     "data": {
      "text/html": [
       "<div>\n",
       "<style scoped>\n",
       "    .dataframe tbody tr th:only-of-type {\n",
       "        vertical-align: middle;\n",
       "    }\n",
       "\n",
       "    .dataframe tbody tr th {\n",
       "        vertical-align: top;\n",
       "    }\n",
       "\n",
       "    .dataframe thead th {\n",
       "        text-align: right;\n",
       "    }\n",
       "</style>\n",
       "<table border=\"1\" class=\"dataframe\">\n",
       "  <thead>\n",
       "    <tr style=\"text-align: right;\">\n",
       "      <th></th>\n",
       "      <th>Name</th>\n",
       "      <th>Artist</th>\n",
       "      <th>Cover Art Largest Image Link</th>\n",
       "    </tr>\n",
       "    <tr>\n",
       "      <th>index</th>\n",
       "      <th></th>\n",
       "      <th></th>\n",
       "      <th></th>\n",
       "    </tr>\n",
       "  </thead>\n",
       "  <tbody>\n",
       "    <tr>\n",
       "      <th>1</th>\n",
       "      <td>January 28th</td>\n",
       "      <td>J. Cole</td>\n",
       "      <td>https://i.scdn.co/image/ab67616d0000b273c6e094...</td>\n",
       "    </tr>\n",
       "    <tr>\n",
       "      <th>2</th>\n",
       "      <td>Too Many Nights (feat. Don Toliver &amp; with Future)</td>\n",
       "      <td>Metro Boomin</td>\n",
       "      <td>https://i.scdn.co/image/ab67616d0000b27313e54d...</td>\n",
       "    </tr>\n",
       "    <tr>\n",
       "      <th>3</th>\n",
       "      <td>family ties (with Kendrick Lamar)</td>\n",
       "      <td>Baby Keem</td>\n",
       "      <td>https://i.scdn.co/image/ab67616d0000b2731bfa23...</td>\n",
       "    </tr>\n",
       "    <tr>\n",
       "      <th>4</th>\n",
       "      <td>On Time (with John Legend)</td>\n",
       "      <td>Metro Boomin</td>\n",
       "      <td>https://i.scdn.co/image/ab67616d0000b27313e54d...</td>\n",
       "    </tr>\n",
       "    <tr>\n",
       "      <th>5</th>\n",
       "      <td>Alone With You</td>\n",
       "      <td>Alina Baraz</td>\n",
       "      <td>https://i.scdn.co/image/ab67616d0000b273947c33...</td>\n",
       "    </tr>\n",
       "  </tbody>\n",
       "</table>\n",
       "</div>"
      ],
      "text/plain": [
       "                                                    Name        Artist  \\\n",
       "index                                                                    \n",
       "1                                           January 28th       J. Cole   \n",
       "2      Too Many Nights (feat. Don Toliver & with Future)  Metro Boomin   \n",
       "3                      family ties (with Kendrick Lamar)     Baby Keem   \n",
       "4                             On Time (with John Legend)  Metro Boomin   \n",
       "5                                         Alone With You   Alina Baraz   \n",
       "\n",
       "                            Cover Art Largest Image Link  \n",
       "index                                                     \n",
       "1      https://i.scdn.co/image/ab67616d0000b273c6e094...  \n",
       "2      https://i.scdn.co/image/ab67616d0000b27313e54d...  \n",
       "3      https://i.scdn.co/image/ab67616d0000b2731bfa23...  \n",
       "4      https://i.scdn.co/image/ab67616d0000b27313e54d...  \n",
       "5      https://i.scdn.co/image/ab67616d0000b273947c33...  "
      ]
     },
     "execution_count": 83,
     "metadata": {},
     "output_type": "execute_result"
    }
   ],
   "source": [
    "### Top 5 songs sub-dataframe\n",
    "top5 = df.head(5)[['Name', 'Artist', 'Cover Art Largest Image Link']]\n",
    "top5"
   ]
  },
  {
   "cell_type": "code",
   "execution_count": 76,
   "metadata": {},
   "outputs": [
    {
     "name": "stdout",
     "output_type": "stream",
     "text": [
      "0    Kendrick Lamar\n",
      "dtype: object\n"
     ]
    }
   ],
   "source": [
    "### Top artist calculation here\n",
    "top_artist = df['Artist'].mode()\n",
    "print(top_artist)"
   ]
  },
  {
   "cell_type": "code",
   "execution_count": 78,
   "metadata": {},
   "outputs": [],
   "source": [
    "### Top genre calculation\n",
    "genres_union = []\n",
    "# Find the union of genres - rap may occur 100 times, hip hop 40, etc.\n",
    "for genre_list in list(df['Genres']):\n",
    "    genres_union.extend(genre_list)\n",
    "\n",
    "# This calculation finds the genre that occurs the most number of times\n",
    "top_genre = max(set(genres_union), key=genres_union.count)\n",
    "top_genre_formatted = top_genre.title()"
   ]
  }
 ],
 "metadata": {
  "kernelspec": {
   "display_name": "base",
   "language": "python",
   "name": "python3"
  },
  "language_info": {
   "codemirror_mode": {
    "name": "ipython",
    "version": 3
   },
   "file_extension": ".py",
   "mimetype": "text/x-python",
   "name": "python",
   "nbconvert_exporter": "python",
   "pygments_lexer": "ipython3",
   "version": "3.8.5"
  },
  "orig_nbformat": 4,
  "vscode": {
   "interpreter": {
    "hash": "14a46a681a5f6e47b50b1c99817de1726165a3a42ffd9bd5de38ad650a335b92"
   }
  }
 },
 "nbformat": 4,
 "nbformat_minor": 2
}
